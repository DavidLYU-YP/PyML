{
 "cells": [
  {
   "cell_type": "markdown",
   "metadata": {
    "slideshow": {
     "slide_type": "slide"
    }
   },
   "source": [
    "# $$\\textbf{Python Programming for Machine Learning} $$ \n",
    "\n",
    "#### $$\\text{WiSe 2020/2021}$$\n",
    "\n",
    "## $$\\text{Lecture 2: Inheritance, Numpy, Performance, Plotting} $$\n",
    "\n",
    "#### $$\\text{Sergej Dogadov} \\quad \\text{Philine Thalia Görzig} \\quad \\text{Panagiotis Tomer Karagiannis}$$\n",
    "\n",
    "<center>\n",
    "<img src='images/pyt.png' width=450>"
   ]
  },
  {
   "cell_type": "markdown",
   "metadata": {
    "slideshow": {
     "slide_type": "slide"
    }
   },
   "source": [
    "## $$\\textbf{Python class inheritance}$$\n",
    "<hr>"
   ]
  },
  {
   "cell_type": "markdown",
   "metadata": {
    "slideshow": {
     "slide_type": "fragment"
    }
   },
   "source": [
    "* $\\textbf{Inheritance} \\text{ is when a class uses code constructed within another class.}$"
   ]
  },
  {
   "cell_type": "code",
   "execution_count": 3,
   "metadata": {
    "slideshow": {
     "slide_type": "fragment"
    }
   },
   "outputs": [
    {
     "name": "stdout",
     "output_type": "stream",
     "text": [
      "Person: Sergej Dogadov\n"
     ]
    },
    {
     "data": {
      "text/plain": [
       "'My name is Sergej Dogadov. '"
      ]
     },
     "execution_count": 3,
     "metadata": {},
     "output_type": "execute_result"
    }
   ],
   "source": [
    "class Person: # Parent class\n",
    "    \n",
    "    def __init__(self, first_name, last_name): # constructor\n",
    "        \n",
    "        self.first_name = first_name\n",
    "        self.last_name = last_name\n",
    "        \n",
    "    def __repr__(self): # object representation\n",
    "        return f'Person: {self.first_name} {self.last_name}'\n",
    "    \n",
    "    def __call__(self):\n",
    "        return self.talk()\n",
    "    \n",
    "    def talk(self): # method\n",
    "        return f'My name is {self.first_name} {self.last_name}. '\n",
    "    \n",
    "me = Person('Sergej', 'Dogadov')\n",
    "\n",
    "# representation is used\n",
    "print(me) \n",
    "\n",
    "me() # or me.talk() explicit call"
   ]
  },
  {
   "cell_type": "markdown",
   "metadata": {
    "slideshow": {
     "slide_type": "slide"
    }
   },
   "source": [
    "### $$\\textbf{Child class}$$\n",
    "<hr>"
   ]
  },
  {
   "cell_type": "code",
   "execution_count": 4,
   "metadata": {
    "slideshow": {
     "slide_type": "fragment"
    }
   },
   "outputs": [
    {
     "data": {
      "text/plain": [
       "'My name is Sergej Dogadov. '"
      ]
     },
     "execution_count": 4,
     "metadata": {},
     "output_type": "execute_result"
    }
   ],
   "source": [
    "class Student(Person): # Child class\n",
    "    \n",
    "    def __init__(self, first_name, last_name, mat_number, university):\n",
    "        \n",
    "        Person.__init__(self, first_name, last_name) # Parent constructor\n",
    "        \n",
    "        self.mat_number = mat_number\n",
    "        self.university = university\n",
    "        \n",
    "        self.classes = []\n",
    "        self.credits = 0 # ECTS\n",
    "        \n",
    "    def __repr__(self):\n",
    "        info = f'{self.first_name} {self.last_name}\\nStudent at {self.university} {self.mat_number}'\n",
    "        \n",
    "        if len(self.classes) > 0:      \n",
    "            classes = ', '.join(self.classes)\n",
    "            info += f'\\nCredits: {self.credits} ECTS in {classes}'\n",
    "            \n",
    "        return  info\n",
    "        \n",
    "    def talk(self):\n",
    "        # parent's method call\n",
    "        return super().talk() + f\"I study at {self.university}. \" + \\\n",
    "            f\"My matriculation number is {self.mat_number}\"\n",
    "    \n",
    "    def exam(self, class_name, credit):\n",
    "        self.classes += [class_name]\n",
    "        self.credits += credit\n",
    "        \n",
    "me() # function talk is invoked"
   ]
  },
  {
   "cell_type": "code",
   "execution_count": 5,
   "metadata": {
    "slideshow": {
     "slide_type": "fragment"
    }
   },
   "outputs": [
    {
     "name": "stdout",
     "output_type": "stream",
     "text": [
      "Sergej Dogadov\n",
      "Student at TU Berlin 123456\n",
      "Credits: 18 ECTS in CA, ML-1X\n"
     ]
    }
   ],
   "source": [
    "me = Student('Sergej', 'Dogadov', 123456, 'TU Berlin')\n",
    "#print(me)\n",
    "\n",
    "#me()\n",
    "me.exam('CA', 6)\n",
    "me.exam('ML-1X', 12)\n",
    "\n",
    "print(me)"
   ]
  },
  {
   "cell_type": "markdown",
   "metadata": {
    "slideshow": {
     "slide_type": "slide"
    }
   },
   "source": [
    "## $$\\textbf{Multiple class inheritance}$$\n",
    "<hr>"
   ]
  },
  {
   "cell_type": "code",
   "execution_count": 6,
   "metadata": {
    "slideshow": {
     "slide_type": "fragment"
    }
   },
   "outputs": [],
   "source": [
    "class Employe:\n",
    "    \n",
    "    def __init__(self, company, position, salary):\n",
    "        \n",
    "        self.company = company\n",
    "        self.position = position\n",
    "        self.salary = salary\n",
    "        \n",
    "    def __repr__(self):\n",
    "        return f\"Employe at {self.company} as {self.position}\""
   ]
  },
  {
   "cell_type": "code",
   "execution_count": 7,
   "metadata": {
    "slideshow": {
     "slide_type": "fragment"
    }
   },
   "outputs": [],
   "source": [
    "class HiWi(Student, Employe):\n",
    "    \n",
    "    def __init__(self, first_name, last_name, mat_number, university, salary):\n",
    "        \n",
    "        Student.__init__(self, first_name, last_name, mat_number, university)\n",
    "        Employe.__init__(self, university, 'HiWi', salary)\n",
    "        \n",
    "    def __repr__(self):\n",
    "        \n",
    "        info = super().__repr__() # first inherited class is beeing called \n",
    "        info += f'\\nPosition: {self.position} with salary {self.salary}$'\n",
    "        return info"
   ]
  },
  {
   "cell_type": "code",
   "execution_count": 8,
   "metadata": {
    "slideshow": {
     "slide_type": "fragment"
    }
   },
   "outputs": [
    {
     "data": {
      "text/plain": [
       "Sergej Dogadov\n",
       "Student at TU Berlin 123456\n",
       "Credits: 6 ECTS in T1\n",
       "Position: HiWi with salary 1000$"
      ]
     },
     "execution_count": 8,
     "metadata": {},
     "output_type": "execute_result"
    }
   ],
   "source": [
    "me = HiWi('Sergej','Dogadov', 123456, 'TU Berlin', 1000)\n",
    "me.exam('T1', 6)\n",
    "me"
   ]
  },
  {
   "cell_type": "markdown",
   "metadata": {
    "slideshow": {
     "slide_type": "slide"
    }
   },
   "source": [
    "# $$\\textbf{Package for scientific computing}$$\n",
    "<hr>\n",
    "<br>\n",
    "<center>\n",
    "<img src='images/num.png' width=850>\n",
    "</center>    \n"
   ]
  },
  {
   "cell_type": "markdown",
   "metadata": {
    "slideshow": {
     "slide_type": "fragment"
    }
   },
   "source": [
    "### $\\textbf{Usefull options:}$\n",
    "\n",
    "* $\\text{a powerful }N\\text{-dimensional array object}$\n",
    "* $\\text{sophisticated (broadcasting) functions}$\n",
    "* $\\text{linear algebra, Fourier transform, and random number capabilities.}$"
   ]
  },
  {
   "cell_type": "markdown",
   "metadata": {
    "slideshow": {
     "slide_type": "slide"
    }
   },
   "source": [
    "* $\\text{Import the package in order to use the built-in functionality} $\n"
   ]
  },
  {
   "cell_type": "code",
   "execution_count": 12,
   "metadata": {
    "slideshow": {
     "slide_type": "fragment"
    }
   },
   "outputs": [],
   "source": [
    "# conda install -c anaconda numpy\n",
    "\n",
    "import numpy as np # as alias or better to say a shortcut "
   ]
  },
  {
   "cell_type": "markdown",
   "metadata": {
    "slideshow": {
     "slide_type": "slide"
    }
   },
   "source": [
    "## $$\\textbf{NumPy arrays and data types}$$\n",
    "<hr>\n",
    "\n",
    "* $\\text{Create a powerful }$N-$\\text{dimensional } $NumPy$ \\text{ array object}$"
   ]
  },
  {
   "cell_type": "code",
   "execution_count": 14,
   "metadata": {
    "scrolled": true,
    "slideshow": {
     "slide_type": "fragment"
    }
   },
   "outputs": [
    {
     "name": "stdout",
     "output_type": "stream",
     "text": [
      "[1 2 3 4] <class 'numpy.ndarray'>\n",
      "----------------------------------------------------------------------------------------------------\n",
      "[1. 2. 3. 4.] <class 'numpy.ndarray'>\n"
     ]
    },
    {
     "data": {
      "text/plain": [
       "array([1., 2., 3., 1.])"
      ]
     },
     "execution_count": 14,
     "metadata": {},
     "output_type": "execute_result"
    }
   ],
   "source": [
    "X = np.array([1, 2, 3, 4]) # from list\n",
    "\n",
    "print(X,type(X)) \n",
    "\n",
    "print(50*'--')\n",
    "\n",
    "Y = np.array((1, 2.0, 3, 4))# from tuple\n",
    "print(Y, type(Y))\n",
    "Y[-1] = 1\n",
    "Y"
   ]
  },
  {
   "cell_type": "markdown",
   "metadata": {
    "slideshow": {
     "slide_type": "fragment"
    }
   },
   "source": [
    "* $\\text{Data type inside the object is estimated from the inputs}$"
   ]
  },
  {
   "cell_type": "code",
   "execution_count": 16,
   "metadata": {
    "slideshow": {
     "slide_type": "fragment"
    }
   },
   "outputs": [
    {
     "name": "stdout",
     "output_type": "stream",
     "text": [
      "[2 4 6 8] int64\n",
      "[1. 2. 3. 1.] float64\n"
     ]
    }
   ],
   "source": [
    "X = np.array(range(2,10,2)) # from range generator\n",
    "\n",
    "print(X, X.dtype) # double precision integer\n",
    "print(Y, Y.dtype) # double precision float"
   ]
  },
  {
   "cell_type": "markdown",
   "metadata": {
    "slideshow": {
     "slide_type": "slide"
    }
   },
   "source": [
    "## $$\\textbf{NumPy data casting}$$\n",
    "<hr>"
   ]
  },
  {
   "cell_type": "markdown",
   "metadata": {
    "slideshow": {
     "slide_type": "fragment"
    }
   },
   "source": [
    "* $\\text{Data type can be changed either explicitly to be e.g}\\> \\textit{(float64)}\\> \\text{as following:}$"
   ]
  },
  {
   "cell_type": "code",
   "execution_count": 17,
   "metadata": {
    "slideshow": {
     "slide_type": "-"
    }
   },
   "outputs": [
    {
     "name": "stdout",
     "output_type": "stream",
     "text": [
      "[2. 4. 6. 8.] float64\n"
     ]
    },
    {
     "data": {
      "text/plain": [
       "(array(['2.0', '4.0', '6.0', '8.0'], dtype='<U32'), dtype('<U32'))"
      ]
     },
     "execution_count": 17,
     "metadata": {},
     "output_type": "execute_result"
    }
   ],
   "source": [
    "X = X.astype(np.float64)\n",
    "print(X, X.dtype) # double precision float\n",
    "\n",
    "X = X.astype(np.str) # element-wise to string casting\n",
    "X, X.dtype"
   ]
  },
  {
   "cell_type": "markdown",
   "metadata": {
    "slideshow": {
     "slide_type": "fragment"
    }
   },
   "source": [
    "* $\\text{or specified during the creation.}$"
   ]
  },
  {
   "cell_type": "code",
   "execution_count": 18,
   "metadata": {
    "slideshow": {
     "slide_type": "-"
    }
   },
   "outputs": [
    {
     "data": {
      "text/plain": [
       "(dtype('int32'), array([ 1, -2,  3,  4], dtype=int32))"
      ]
     },
     "execution_count": 18,
     "metadata": {},
     "output_type": "execute_result"
    }
   ],
   "source": [
    "X = np.array([1, -2.9, 3, 4], dtype=np.int32) # single precision integer\n",
    "\n",
    "X.dtype, X # but be careful (casting errors)"
   ]
  },
  {
   "cell_type": "markdown",
   "metadata": {
    "slideshow": {
     "slide_type": "fragment"
    }
   },
   "source": [
    "* $\\text{When applying an operator to two arrays of different types,}$\n",
    "$\\text{the returned array gets the type of the highest-precision input array}$"
   ]
  },
  {
   "cell_type": "code",
   "execution_count": 19,
   "metadata": {
    "slideshow": {
     "slide_type": "-"
    }
   },
   "outputs": [
    {
     "data": {
      "text/plain": [
       "dtype('float64')"
      ]
     },
     "execution_count": 19,
     "metadata": {},
     "output_type": "execute_result"
    }
   ],
   "source": [
    "(X + Y).dtype"
   ]
  },
  {
   "cell_type": "markdown",
   "metadata": {
    "slideshow": {
     "slide_type": "slide"
    }
   },
   "source": [
    " ## $$\\textbf{Operations between NumPy arrays}$$\n",
    "<hr>"
   ]
  },
  {
   "cell_type": "markdown",
   "metadata": {
    "slideshow": {
     "slide_type": "fragment"
    }
   },
   "source": [
    " * $\\text{Element-wise addition}$"
   ]
  },
  {
   "cell_type": "code",
   "execution_count": 20,
   "metadata": {
    "slideshow": {
     "slide_type": "-"
    }
   },
   "outputs": [
    {
     "name": "stdout",
     "output_type": "stream",
     "text": [
      "[ 1 -2  3  4] [1. 2. 3. 1.]\n"
     ]
    },
    {
     "data": {
      "text/plain": [
       "(array([2., 0., 6., 5.]), dtype('float64'))"
      ]
     },
     "execution_count": 20,
     "metadata": {},
     "output_type": "execute_result"
    }
   ],
   "source": [
    "print(X, Y)\n",
    "\n",
    "A = X + Y   \n",
    "A, A.dtype"
   ]
  },
  {
   "cell_type": "markdown",
   "metadata": {
    "slideshow": {
     "slide_type": "fragment"
    }
   },
   "source": [
    " * $\\text{Element-wise multiplication}$"
   ]
  },
  {
   "cell_type": "code",
   "execution_count": 21,
   "metadata": {
    "slideshow": {
     "slide_type": "-"
    }
   },
   "outputs": [
    {
     "data": {
      "text/plain": [
       "(array([ 1., -4.,  9.,  4.]), dtype('float64'))"
      ]
     },
     "execution_count": 21,
     "metadata": {},
     "output_type": "execute_result"
    }
   ],
   "source": [
    "M = X * Y   \n",
    "M, M.dtype"
   ]
  },
  {
   "cell_type": "markdown",
   "metadata": {
    "slideshow": {
     "slide_type": "fragment"
    }
   },
   "source": [
    " * $\\text{Element-wise power}$"
   ]
  },
  {
   "cell_type": "code",
   "execution_count": 24,
   "metadata": {
    "slideshow": {
     "slide_type": "-"
    }
   },
   "outputs": [
    {
     "data": {
      "text/plain": [
       "(array([ 1.,  4., 27.,  4.]), dtype('float64'))"
      ]
     },
     "execution_count": 24,
     "metadata": {},
     "output_type": "execute_result"
    }
   ],
   "source": [
    "M = X ** Y   \n",
    "M, M.dtype"
   ]
  },
  {
   "cell_type": "markdown",
   "metadata": {
    "slideshow": {
     "slide_type": "slide"
    }
   },
   "source": [
    " ## $$\\textbf{Indexing and Slicing}$$\n",
    "<hr>"
   ]
  },
  {
   "cell_type": "code",
   "execution_count": 25,
   "metadata": {
    "slideshow": {
     "slide_type": "fragment"
    }
   },
   "outputs": [
    {
     "name": "stdout",
     "output_type": "stream",
     "text": [
      "[ 1 -2  3  4]\n",
      "[3 4] [-2  3  4] [-2  4] [ 4  3 -2  1]\n"
     ]
    }
   ],
   "source": [
    "# Similar indexind and slicing to already well known python lists\n",
    "\n",
    "X_tail = X[2:]   # indexing \n",
    "X_slice = X[1:4] # slicing\n",
    "X_even = X[1::2]  # use steps e.g. for getting even elements\n",
    "X_rev = X[::-1]  # reverce\n",
    "\n",
    "print(X)\n",
    "print(X_tail, X_slice, X_even, X_rev)"
   ]
  },
  {
   "cell_type": "markdown",
   "metadata": {
    "slideshow": {
     "slide_type": "slide"
    }
   },
   "source": [
    " ## $$\\textbf{Python vs. NumPy}$$\n",
    "<hr>"
   ]
  },
  {
   "cell_type": "code",
   "execution_count": 26,
   "metadata": {
    "slideshow": {
     "slide_type": "fragment"
    }
   },
   "outputs": [
    {
     "data": {
      "text/plain": [
       "[1, 2, 3, 4, 5, 6, 7, 8]"
      ]
     },
     "execution_count": 26,
     "metadata": {},
     "output_type": "execute_result"
    }
   ],
   "source": [
    "X_list = [1, 2, 3, 4]\n",
    "Y_list = [5, 6, 7, 8]\n",
    "\n",
    "X_list + Y_list  # concatenation"
   ]
  },
  {
   "cell_type": "code",
   "execution_count": 27,
   "metadata": {
    "slideshow": {
     "slide_type": "fragment"
    }
   },
   "outputs": [
    {
     "data": {
      "text/plain": [
       "array([ 6,  8, 10, 12])"
      ]
     },
     "execution_count": 27,
     "metadata": {},
     "output_type": "execute_result"
    }
   ],
   "source": [
    "X_arr = np.array(X_list)\n",
    "Y_arr = np.array([5, 6, 7, 8])\n",
    "\n",
    "X_arr + Y_arr # element-wise addition"
   ]
  },
  {
   "cell_type": "code",
   "execution_count": 28,
   "metadata": {
    "scrolled": true,
    "slideshow": {
     "slide_type": "fragment"
    }
   },
   "outputs": [
    {
     "data": {
      "text/plain": [
       "array([15, 30])"
      ]
     },
     "execution_count": 28,
     "metadata": {},
     "output_type": "execute_result"
    }
   ],
   "source": [
    "#X_list * Y_list # not defined for lists -> raises Exception\n",
    "\n",
    "5*np.array([3,6])"
   ]
  },
  {
   "cell_type": "markdown",
   "metadata": {
    "slideshow": {
     "slide_type": "slide"
    }
   },
   "source": [
    "* $\\text{Element-wise operations in pure Python with list comprehansions}$"
   ]
  },
  {
   "cell_type": "code",
   "execution_count": 29,
   "metadata": {
    "slideshow": {
     "slide_type": "fragment"
    }
   },
   "outputs": [
    {
     "name": "stdout",
     "output_type": "stream",
     "text": [
      "[6, 8, 10, 12] [ 6  8 10 12]\n"
     ]
    }
   ],
   "source": [
    "# element-wise addition\n",
    "A_list = [x + y for x, y in zip(X_list, Y_list)]\n",
    "\n",
    "A_arr = X_arr + Y_arr\n",
    "\n",
    "print(A_list, A_arr)\n",
    "\n",
    "assert np.allclose(A_list, A_arr) # are they the same"
   ]
  },
  {
   "cell_type": "code",
   "execution_count": 30,
   "metadata": {
    "slideshow": {
     "slide_type": "fragment"
    }
   },
   "outputs": [
    {
     "name": "stdout",
     "output_type": "stream",
     "text": [
      "[5, 12, 21, 32] [ 5 12 21 32]\n"
     ]
    }
   ],
   "source": [
    "# element-wise multiplication\n",
    "M_list = [x * y for x, y in zip(X_list, Y_list)]      \n",
    "\n",
    "M_arr = X_arr * Y_arr\n",
    "print(M_list, M_arr)"
   ]
  },
  {
   "cell_type": "markdown",
   "metadata": {
    "slideshow": {
     "slide_type": "fragment"
    }
   },
   "source": [
    "$\\textbf{Observation:} \\text{ Results are the same, but the Numpy syntax is much more readable }$\n",
    "\n",
    "$\\text{(i.e. more compact) than the Python syntax for the same vector operations.}$"
   ]
  },
  {
   "cell_type": "markdown",
   "metadata": {
    "slideshow": {
     "slide_type": "slide"
    }
   },
   "source": [
    " ## $$\\textbf{NumPy array  (Vector)}$$\n",
    "<hr>"
   ]
  },
  {
   "cell_type": "code",
   "execution_count": 31,
   "metadata": {
    "scrolled": true,
    "slideshow": {
     "slide_type": "fragment"
    }
   },
   "outputs": [
    {
     "name": "stdout",
     "output_type": "stream",
     "text": [
      "[1 2 3] (3,) <class 'numpy.ndarray'>\n"
     ]
    }
   ],
   "source": [
    "vec = np.array([1, 2, 3]) # array\n",
    "\n",
    "print(vec, vec.shape, type(vec))"
   ]
  },
  {
   "cell_type": "code",
   "execution_count": 33,
   "metadata": {
    "slideshow": {
     "slide_type": "fragment"
    }
   },
   "outputs": [
    {
     "name": "stdout",
     "output_type": "stream",
     "text": [
      "[[1 2 3]] (1, 3)\n"
     ]
    }
   ],
   "source": [
    "# Adding a new dimension\n",
    "vec_row = vec[np.newaxis] # row vector ( equivalent vec[None])\n",
    "print(vec_row, vec_row.shape)"
   ]
  },
  {
   "cell_type": "code",
   "execution_count": 34,
   "metadata": {
    "slideshow": {
     "slide_type": "fragment"
    }
   },
   "outputs": [
    {
     "name": "stdout",
     "output_type": "stream",
     "text": [
      "[[1]\n",
      " [2]\n",
      " [3]] (3, 1)\n"
     ]
    }
   ],
   "source": [
    "vec_col = vec[:,np.newaxis] # column vector (None is used instead np.newaxis)\n",
    "print(vec_col, vec_col.shape)"
   ]
  },
  {
   "cell_type": "markdown",
   "metadata": {
    "slideshow": {
     "slide_type": "slide"
    }
   },
   "source": [
    " ## $$\\textbf{NumPy 2-dim array  (Matrix)}$$\n",
    "<hr>"
   ]
  },
  {
   "cell_type": "code",
   "execution_count": 35,
   "metadata": {
    "slideshow": {
     "slide_type": "fragment"
    }
   },
   "outputs": [
    {
     "name": "stdout",
     "output_type": "stream",
     "text": [
      "[[1 2 3]\n",
      " [4 5 6]] <class 'numpy.ndarray'> (2, 3) 6\n"
     ]
    }
   ],
   "source": [
    "# 2-dim array \n",
    "\n",
    "A = np.array(\n",
    "    [\n",
    "        [1, 2, 3],\n",
    "        [4, 5, 6]\n",
    "    ]\n",
    ")\n",
    "\n",
    "print(A,type(A), A.shape, A.size) # matrix dimensions and number of elements"
   ]
  },
  {
   "cell_type": "markdown",
   "metadata": {
    "slideshow": {
     "slide_type": "fragment"
    }
   },
   "source": [
    " * $\\text{Matrix-Matrix dot product}$"
   ]
  },
  {
   "cell_type": "code",
   "execution_count": 37,
   "metadata": {
    "slideshow": {
     "slide_type": "-"
    }
   },
   "outputs": [
    {
     "name": "stdout",
     "output_type": "stream",
     "text": [
      "[[14 32]\n",
      " [32 77]] (2, 2)\n"
     ]
    }
   ],
   "source": [
    "#(2, 3) x (3, 2) -> (2, 2)\n",
    "\n",
    "A2 = A.dot(A.T) # T -> matrix transpose operation\n",
    "#A = [[1,2],[2,3]]\n",
    "\n",
    "A2 = np.dot(A, np.transpose(A)) # equivalent with casting to ndarray object\n",
    "\n",
    "A2 = A @ A.T # equivalent works in lates python versions\n",
    "\n",
    "print(A2, A2.shape)"
   ]
  },
  {
   "cell_type": "markdown",
   "metadata": {
    "slideshow": {
     "slide_type": "slide"
    }
   },
   "source": [
    " ## $$ \\textbf{NumPy}\\> N\\textbf{-dim array (Tensor)}$$\n",
    "<hr>"
   ]
  },
  {
   "cell_type": "markdown",
   "metadata": {
    "slideshow": {
     "slide_type": "fragment"
    }
   },
   "source": [
    "* $\\text{N-dim array creation useful functions}$"
   ]
  },
  {
   "cell_type": "code",
   "execution_count": 42,
   "metadata": {
    "slideshow": {
     "slide_type": "-"
    }
   },
   "outputs": [
    {
     "data": {
      "text/plain": [
       "(2, 3, 2)"
      ]
     },
     "execution_count": 42,
     "metadata": {},
     "output_type": "execute_result"
    }
   ],
   "source": [
    "# All zeros with the given shape\n",
    "A_zeros = np.zeros(shape=(2, 3, 2))\n",
    "A_zeros.shape"
   ]
  },
  {
   "cell_type": "code",
   "execution_count": 44,
   "metadata": {
    "scrolled": true,
    "slideshow": {
     "slide_type": "fragment"
    }
   },
   "outputs": [
    {
     "data": {
      "text/plain": [
       "(array([[[1., 1.],\n",
       "         [1., 1.]],\n",
       " \n",
       "        [[1., 1.],\n",
       "         [1., 1.]],\n",
       " \n",
       "        [[1., 1.],\n",
       "         [1., 1.]]]),\n",
       " (3, 2, 2))"
      ]
     },
     "execution_count": 44,
     "metadata": {},
     "output_type": "execute_result"
    }
   ],
   "source": [
    "# All ones with the given shape\n",
    "A_ones = np.ones((3,2,2)) # you may omit 'shape=' argument name \n",
    "\n",
    "A_ones, A_ones.shape "
   ]
  },
  {
   "cell_type": "code",
   "execution_count": 45,
   "metadata": {
    "slideshow": {
     "slide_type": "fragment"
    }
   },
   "outputs": [
    {
     "name": "stdout",
     "output_type": "stream",
     "text": [
      "(2, 3)\n",
      "[[1 1 1]\n",
      " [1 1 1]] 2\n"
     ]
    }
   ],
   "source": [
    "A_ones = np.ones_like(A) # takes shape from A\n",
    "print(A.shape)\n",
    "print(A_ones, A_ones.ndim) # number of dimensions (axis)"
   ]
  },
  {
   "cell_type": "markdown",
   "metadata": {
    "slideshow": {
     "slide_type": "slide"
    }
   },
   "source": [
    " ## $$ N\\textbf{-d array reshaping}$$\n",
    "<hr>"
   ]
  },
  {
   "cell_type": "code",
   "execution_count": 46,
   "metadata": {
    "slideshow": {
     "slide_type": "fragment"
    }
   },
   "outputs": [
    {
     "name": "stdout",
     "output_type": "stream",
     "text": [
      "[ 2  4  6  8 10 12 14 16 18 20 22 24 26 28 30 32 34 36 38 40 42 44 46 48] <class 'numpy.ndarray'> 24\n"
     ]
    }
   ],
   "source": [
    "# Init numpy array \n",
    "A = np.arange(2, 49, 2) # numpy equlavent of the range function\n",
    "print(A, type(A), len(A))"
   ]
  },
  {
   "cell_type": "code",
   "execution_count": 47,
   "metadata": {
    "slideshow": {
     "slide_type": "-"
    }
   },
   "outputs": [
    {
     "name": "stdout",
     "output_type": "stream",
     "text": [
      "[[[ 2  4  6  8]\n",
      "  [10 12 14 16]\n",
      "  [18 20 22 24]]\n",
      "\n",
      " [[26 28 30 32]\n",
      "  [34 36 38 40]\n",
      "  [42 44 46 48]]]\n"
     ]
    },
    {
     "data": {
      "text/plain": [
       "((2, 3, 4), 3)"
      ]
     },
     "execution_count": 47,
     "metadata": {},
     "output_type": "execute_result"
    }
   ],
   "source": [
    "new_shape = (2,3,4)\n",
    "\n",
    "A_t = A.reshape(new_shape) # or resise(2,4,3) manipulates the original array\n",
    "assert len(A) == np.prod(new_shape)\n",
    "print(A_t)\n",
    "\n",
    "A_t.shape , A_t.ndim"
   ]
  },
  {
   "cell_type": "markdown",
   "metadata": {
    "slideshow": {
     "slide_type": "slide"
    }
   },
   "source": [
    " ## $$ N\\textbf{-d array indexing}$$\n",
    "<hr>"
   ]
  },
  {
   "cell_type": "code",
   "execution_count": 48,
   "metadata": {
    "scrolled": true,
    "slideshow": {
     "slide_type": "fragment"
    }
   },
   "outputs": [
    {
     "name": "stdout",
     "output_type": "stream",
     "text": [
      "[[ 2  4  6  8]\n",
      " [10 12 14 16]\n",
      " [18 20 22 24]]\n"
     ]
    }
   ],
   "source": [
    " # sub-matrix indexing # (2,3,4)\n",
    "print(A_t[0]) # first sub-matrix"
   ]
  },
  {
   "cell_type": "code",
   "execution_count": 49,
   "metadata": {
    "slideshow": {
     "slide_type": "fragment"
    }
   },
   "outputs": [
    {
     "name": "stdout",
     "output_type": "stream",
     "text": [
      "[[34 36 38 40]\n",
      " [42 44 46 48]]\n"
     ]
    }
   ],
   "source": [
    "# slicing within the second sub-matrix \n",
    "print(A_t[1, 1:3])"
   ]
  },
  {
   "cell_type": "code",
   "execution_count": 50,
   "metadata": {
    "slideshow": {
     "slide_type": "fragment"
    }
   },
   "outputs": [
    {
     "name": "stdout",
     "output_type": "stream",
     "text": [
      "[32 40 48]\n"
     ]
    }
   ],
   "source": [
    "# last column vecotor within second sub-matrix\n",
    "print(A_t[1, :, -1])  # : sign skips one dimension (axis)\n",
    "\n",
    "#print(A_t, A_t.ndim)"
   ]
  },
  {
   "cell_type": "code",
   "execution_count": 61,
   "metadata": {
    "slideshow": {
     "slide_type": "fragment"
    }
   },
   "outputs": [
    {
     "data": {
      "text/plain": [
       "array([[34, 36, 38, 40]])"
      ]
     },
     "execution_count": 61,
     "metadata": {},
     "output_type": "execute_result"
    }
   ],
   "source": [
    "A_t[1, 1::2] # even rows of second sub-matrix"
   ]
  },
  {
   "cell_type": "markdown",
   "metadata": {
    "slideshow": {
     "slide_type": "slide"
    }
   },
   "source": [
    " ## $$ \\textbf{NumPy boolean arrays}$$\n",
    "<hr>"
   ]
  },
  {
   "cell_type": "code",
   "execution_count": 66,
   "metadata": {
    "slideshow": {
     "slide_type": "fragment"
    }
   },
   "outputs": [
    {
     "name": "stdout",
     "output_type": "stream",
     "text": [
      "[-3 -2 -1  0  1  2  3  4]\n",
      "[False False False False False  True  True  True] bool\n",
      "[2 3 4]\n"
     ]
    }
   ],
   "source": [
    "import numpy as np\n",
    "\n",
    "a = np.arange(8) - 3\n",
    "print(a)\n",
    "\n",
    "greater_one = a > 1\n",
    "print(greater_one, greater_one.dtype)\n",
    "\n",
    "print(a[greater_one])"
   ]
  },
  {
   "cell_type": "markdown",
   "metadata": {
    "slideshow": {
     "slide_type": "fragment"
    }
   },
   "source": [
    "* $\\text{Element-wise boolean operations}$"
   ]
  },
  {
   "cell_type": "code",
   "execution_count": 67,
   "metadata": {
    "slideshow": {
     "slide_type": "-"
    }
   },
   "outputs": [
    {
     "data": {
      "text/plain": [
       "array([-3, -2,  2,  3,  4])"
      ]
     },
     "execution_count": 67,
     "metadata": {},
     "output_type": "execute_result"
    }
   ],
   "source": [
    "lower_minus_one = a < -1\n",
    "mask = lower_minus_one + greater_one  # either lower then -1 or greater then 1 \n",
    "a[mask]"
   ]
  },
  {
   "cell_type": "markdown",
   "metadata": {
    "slideshow": {
     "slide_type": "slide"
    }
   },
   "source": [
    " ## $$ \\textbf{NumPy boolean functions}$$\n",
    "<hr>"
   ]
  },
  {
   "cell_type": "code",
   "execution_count": 68,
   "metadata": {
    "slideshow": {
     "slide_type": "fragment"
    }
   },
   "outputs": [
    {
     "name": "stdout",
     "output_type": "stream",
     "text": [
      "[-3 -2 -1  0  1  2  3  4]\n"
     ]
    },
    {
     "data": {
      "text/plain": [
       "True"
      ]
     },
     "execution_count": 68,
     "metadata": {},
     "output_type": "execute_result"
    }
   ],
   "source": [
    "print(a)\n",
    "np.all(a < 10)"
   ]
  },
  {
   "cell_type": "code",
   "execution_count": 69,
   "metadata": {
    "slideshow": {
     "slide_type": "fragment"
    }
   },
   "outputs": [
    {
     "name": "stdout",
     "output_type": "stream",
     "text": [
      "[False  True  True  True  True  True  True  True]\n",
      "[ True  True  True  True  True  True  True  True]\n"
     ]
    }
   ],
   "source": [
    "np.all((a >= -3) * (a < 5)) # are all elements greater equal then -3 and lower then 5\n",
    "\n",
    "print((a > -3))\n",
    "print( (a < 5))"
   ]
  },
  {
   "cell_type": "code",
   "execution_count": 70,
   "metadata": {
    "slideshow": {
     "slide_type": "fragment"
    }
   },
   "outputs": [
    {
     "data": {
      "text/plain": [
       "False"
      ]
     },
     "execution_count": 70,
     "metadata": {},
     "output_type": "execute_result"
    }
   ],
   "source": [
    "np.all((a > 3) * (a < 5)) # are all elements greater then -3 and lower then 5"
   ]
  },
  {
   "cell_type": "code",
   "execution_count": 71,
   "metadata": {
    "slideshow": {
     "slide_type": "fragment"
    }
   },
   "outputs": [
    {
     "data": {
      "text/plain": [
       "True"
      ]
     },
     "execution_count": 71,
     "metadata": {},
     "output_type": "execute_result"
    }
   ],
   "source": [
    "np.any(a > 3) # works similarly (one True is enough to get True returned)"
   ]
  },
  {
   "cell_type": "markdown",
   "metadata": {
    "slideshow": {
     "slide_type": "slide"
    }
   },
   "source": [
    " ## $$ \\textbf{NumPy boolean functions applied along axis}$$\n",
    "<hr>"
   ]
  },
  {
   "cell_type": "code",
   "execution_count": 72,
   "metadata": {
    "slideshow": {
     "slide_type": "fragment"
    }
   },
   "outputs": [
    {
     "name": "stdout",
     "output_type": "stream",
     "text": [
      "[-3 -2 -1  0  1  2  3  4]\n"
     ]
    }
   ],
   "source": [
    "# First let's construct a matrix from array\n",
    "print(a)"
   ]
  },
  {
   "cell_type": "code",
   "execution_count": 73,
   "metadata": {
    "slideshow": {
     "slide_type": "fragment"
    }
   },
   "outputs": [
    {
     "data": {
      "text/plain": [
       "(array([[-3, -2, -1,  0],\n",
       "        [ 1,  2,  3,  4]]),\n",
       " (2, 4))"
      ]
     },
     "execution_count": 73,
     "metadata": {},
     "output_type": "execute_result"
    }
   ],
   "source": [
    "A = a.reshape(-1, 4) # second axis must have 4 elements, the others detrimined automatically\n",
    "A, A.shape"
   ]
  },
  {
   "cell_type": "code",
   "execution_count": 75,
   "metadata": {
    "slideshow": {
     "slide_type": "fragment"
    }
   },
   "outputs": [
    {
     "data": {
      "text/plain": [
       "(array([False,  True]), (2,))"
      ]
     },
     "execution_count": 75,
     "metadata": {},
     "output_type": "execute_result"
    }
   ],
   "source": [
    "# specify 'collapsing' axis\n",
    "ans = np.all(A > -2, axis=1) # are all elements greather then -2 column-wise\n",
    "ans, ans.shape"
   ]
  },
  {
   "cell_type": "code",
   "execution_count": 76,
   "metadata": {
    "slideshow": {
     "slide_type": "fragment"
    }
   },
   "outputs": [
    {
     "data": {
      "text/plain": [
       "(array([[False],\n",
       "        [ True]]),\n",
       " (2, 1))"
      ]
     },
     "execution_count": 76,
     "metadata": {},
     "output_type": "execute_result"
    }
   ],
   "source": [
    "ans = np.all(A > 0, axis=1, keepdims=True) # are all elements positive row-wise\n",
    "ans, ans.shape"
   ]
  },
  {
   "cell_type": "markdown",
   "metadata": {
    "slideshow": {
     "slide_type": "slide"
    }
   },
   "source": [
    " ## $$ \\textbf{Useful NumPy functions}$$\n",
    "<hr>"
   ]
  },
  {
   "cell_type": "markdown",
   "metadata": {
    "slideshow": {
     "slide_type": "fragment"
    }
   },
   "source": [
    "* $\\text{Special initializations}$"
   ]
  },
  {
   "cell_type": "code",
   "execution_count": 77,
   "metadata": {
    "scrolled": true,
    "slideshow": {
     "slide_type": "fragment"
    }
   },
   "outputs": [
    {
     "data": {
      "text/plain": [
       "array([[1., 0., 0.],\n",
       "       [0., 1., 0.],\n",
       "       [0., 0., 1.]])"
      ]
     },
     "execution_count": 77,
     "metadata": {},
     "output_type": "execute_result"
    }
   ],
   "source": [
    "np.eye(3) # identity matrix"
   ]
  },
  {
   "cell_type": "code",
   "execution_count": 78,
   "metadata": {
    "slideshow": {
     "slide_type": "fragment"
    }
   },
   "outputs": [
    {
     "data": {
      "text/plain": [
       "array([[-1,  0,  0,  0],\n",
       "       [ 0,  5,  0,  0],\n",
       "       [ 0,  0,  3,  0],\n",
       "       [ 0,  0,  0,  5]])"
      ]
     },
     "execution_count": 78,
     "metadata": {},
     "output_type": "execute_result"
    }
   ],
   "source": [
    "np.diag([-1, 5, 3, 5]) # diagonal matrix with the elements"
   ]
  },
  {
   "cell_type": "code",
   "execution_count": 79,
   "metadata": {
    "slideshow": {
     "slide_type": "fragment"
    }
   },
   "outputs": [
    {
     "data": {
      "text/plain": [
       "array([[[1., 1.],\n",
       "        [1., 1.],\n",
       "        [1., 1.]],\n",
       "\n",
       "       [[1., 1.],\n",
       "        [1., 1.],\n",
       "        [1., 1.]]])"
      ]
     },
     "execution_count": 79,
     "metadata": {},
     "output_type": "execute_result"
    }
   ],
   "source": [
    "fill_value = 7\n",
    "C = np.ones((2,3,2))#, fill_value)\n",
    "C"
   ]
  },
  {
   "cell_type": "code",
   "execution_count": 80,
   "metadata": {
    "slideshow": {
     "slide_type": "fragment"
    }
   },
   "outputs": [
    {
     "data": {
      "text/plain": [
       "array([[0.15021523, 0.94879178, 0.56315649],\n",
       "       [0.48459969, 0.23461988, 0.19216545],\n",
       "       [0.15695751, 0.35614944, 0.17734524]])"
      ]
     },
     "execution_count": 80,
     "metadata": {},
     "output_type": "execute_result"
    }
   ],
   "source": [
    "# random init\n",
    "C = np.random.rand(3, 3) # random numbers (0,1) of the given shapes\n",
    "C"
   ]
  },
  {
   "cell_type": "markdown",
   "metadata": {
    "slideshow": {
     "slide_type": "slide"
    }
   },
   "source": [
    "* $\\text{Matrix manipulations}$"
   ]
  },
  {
   "cell_type": "code",
   "execution_count": 81,
   "metadata": {
    "slideshow": {
     "slide_type": "-"
    }
   },
   "outputs": [
    {
     "name": "stdout",
     "output_type": "stream",
     "text": [
      "[[0.15021523 0.94879178 0.56315649]\n",
      " [0.48459969 0.23461988 0.19216545]\n",
      " [0.15695751 0.35614944 0.17734524]] (3, 3)\n"
     ]
    }
   ],
   "source": [
    "print(C, C.shape)"
   ]
  },
  {
   "cell_type": "code",
   "execution_count": 82,
   "metadata": {
    "slideshow": {
     "slide_type": "fragment"
    }
   },
   "outputs": [
    {
     "data": {
      "text/plain": [
       "array([0.15021523, 0.23461988, 0.17734524])"
      ]
     },
     "execution_count": 82,
     "metadata": {},
     "output_type": "execute_result"
    }
   ],
   "source": [
    "diag = np.diag(C) # retriving of the diagonal elements from matrix\n",
    "diag"
   ]
  },
  {
   "cell_type": "code",
   "execution_count": 83,
   "metadata": {
    "slideshow": {
     "slide_type": "fragment"
    }
   },
   "outputs": [
    {
     "data": {
      "text/plain": [
       "array([[0.15021523, 0.        , 0.        ],\n",
       "       [0.        , 0.23461988, 0.        ],\n",
       "       [0.        , 0.        , 0.17734524]])"
      ]
     },
     "execution_count": 83,
     "metadata": {},
     "output_type": "execute_result"
    }
   ],
   "source": [
    "np.diag(diag) # creates diagonal matrix from an array"
   ]
  },
  {
   "cell_type": "code",
   "execution_count": 84,
   "metadata": {
    "slideshow": {
     "slide_type": "fragment"
    }
   },
   "outputs": [
    {
     "data": {
      "text/plain": [
       "array([[0.15021523, 0.94879178, 0.56315649],\n",
       "       [0.        , 0.23461988, 0.19216545],\n",
       "       [0.        , 0.        , 0.17734524]])"
      ]
     },
     "execution_count": 84,
     "metadata": {},
     "output_type": "execute_result"
    }
   ],
   "source": [
    "np.triu(C) # get upper triangle matrix"
   ]
  },
  {
   "cell_type": "code",
   "execution_count": 85,
   "metadata": {
    "slideshow": {
     "slide_type": "fragment"
    }
   },
   "outputs": [
    {
     "data": {
      "text/plain": [
       "array([[0.15021523, 0.        , 0.        ],\n",
       "       [0.48459969, 0.23461988, 0.        ],\n",
       "       [0.15695751, 0.35614944, 0.17734524]])"
      ]
     },
     "execution_count": 85,
     "metadata": {},
     "output_type": "execute_result"
    }
   ],
   "source": [
    "np.tril(C) # get lower triangle matrix"
   ]
  },
  {
   "cell_type": "markdown",
   "metadata": {
    "slideshow": {
     "slide_type": "slide"
    }
   },
   "source": [
    "* $\\text{Matrix reshape and resize}$"
   ]
  },
  {
   "cell_type": "code",
   "execution_count": 86,
   "metadata": {
    "slideshow": {
     "slide_type": "fragment"
    }
   },
   "outputs": [
    {
     "data": {
      "text/plain": [
       "(array([[[ 0.,  1.,  2.,  3.],\n",
       "         [ 4.,  5.,  6.,  7.],\n",
       "         [ 8.,  9., 10., 11.]],\n",
       " \n",
       "        [[12., 13., 14., 15.],\n",
       "         [16., 17., 18., 19.],\n",
       "         [20., 21., 22., 23.]]]),\n",
       " array([ 0.,  1.,  2.,  3.,  4.,  5.,  6.,  7.,  8.,  9., 10., 11., 12.,\n",
       "        13., 14., 15., 16., 17., 18., 19., 20., 21., 22., 23.]))"
      ]
     },
     "execution_count": 86,
     "metadata": {},
     "output_type": "execute_result"
    }
   ],
   "source": [
    "C = np.arange(24).astype(np.float)\n",
    "\n",
    "R_C = C.reshape(2,3,4)\n",
    "R_C, C # original array is not changed"
   ]
  },
  {
   "cell_type": "code",
   "execution_count": 87,
   "metadata": {
    "slideshow": {
     "slide_type": "fragment"
    }
   },
   "outputs": [
    {
     "data": {
      "text/plain": [
       "array([[[ 0.,  1.,  2.,  3.],\n",
       "        [ 4.,  5.,  6.,  7.],\n",
       "        [ 8.,  9., 10., 11.]],\n",
       "\n",
       "       [[12., 13., 14., 15.],\n",
       "        [16., 17., 18., 19.],\n",
       "        [20., 21., 22., 23.]]])"
      ]
     },
     "execution_count": 87,
     "metadata": {},
     "output_type": "execute_result"
    }
   ],
   "source": [
    "C.resize(2,3,4) # mutates the original array\n",
    "C"
   ]
  },
  {
   "cell_type": "markdown",
   "metadata": {
    "slideshow": {
     "slide_type": "slide"
    }
   },
   "source": [
    "* $\\text{Flattening}$"
   ]
  },
  {
   "cell_type": "code",
   "execution_count": 88,
   "metadata": {
    "slideshow": {
     "slide_type": "fragment"
    }
   },
   "outputs": [
    {
     "name": "stdout",
     "output_type": "stream",
     "text": [
      "(2, 3, 4)\n"
     ]
    },
    {
     "data": {
      "text/plain": [
       "(array([inf,  1.,  2.,  3.,  4.,  5.,  6.,  7.,  8.,  9., 10., 11., 12.,\n",
       "        13., 14., 15., 16., 17., 18., 19., 20., 21., 22., 23.]),\n",
       " array([[[ 0.,  1.,  2.,  3.],\n",
       "         [ 4.,  5.,  6.,  7.],\n",
       "         [ 8.,  9., 10., 11.]],\n",
       " \n",
       "        [[12., 13., 14., 15.],\n",
       "         [16., 17., 18., 19.],\n",
       "         [20., 21., 22., 23.]]]))"
      ]
     },
     "execution_count": 88,
     "metadata": {},
     "output_type": "execute_result"
    }
   ],
   "source": [
    "print(C.shape)\n",
    "\n",
    "D = C.flatten() # flattened a matrix to become a vector (returns a copy)\n",
    "\n",
    "D[0] = np.inf # represents an infinity value\n",
    "\n",
    "D, C"
   ]
  },
  {
   "cell_type": "code",
   "execution_count": 89,
   "metadata": {
    "slideshow": {
     "slide_type": "fragment"
    }
   },
   "outputs": [
    {
     "name": "stdout",
     "output_type": "stream",
     "text": [
      "[nan  1.  2.  3.  4.  5.  6.  7.  8.  9. 10. 11. 12. 13. 14. 15. 16. 17.\n",
      " 18. 19. 20. 21. 22. 23.]\n",
      "[[[nan  1.  2.  3.]\n",
      "  [ 4.  5.  6.  7.]\n",
      "  [ 8.  9. 10. 11.]]\n",
      "\n",
      " [[12. 13. 14. 15.]\n",
      "  [16. 17. 18. 19.]\n",
      "  [20. 21. 22. 23.]]]\n"
     ]
    }
   ],
   "source": [
    "F = C.ravel() #returns a view of an array instead of a copy\n",
    "\n",
    "F[0] = np.nan # represents not-a-number value such as zero by zero division\n",
    "\n",
    "print(F)\n",
    "print(C)       \n",
    "#F[0] = 0"
   ]
  },
  {
   "cell_type": "markdown",
   "metadata": {
    "slideshow": {
     "slide_type": "slide"
    }
   },
   "source": [
    " ## $$ \\textbf{More useful NumPy functions}$$\n",
    "<hr>"
   ]
  },
  {
   "cell_type": "code",
   "execution_count": 90,
   "metadata": {
    "slideshow": {
     "slide_type": "fragment"
    }
   },
   "outputs": [
    {
     "data": {
      "text/plain": [
       "(nan, nan, nan, nan)"
      ]
     },
     "execution_count": 90,
     "metadata": {},
     "output_type": "execute_result"
    }
   ],
   "source": [
    "# summe, average, standart deviation, variance\n",
    "np.sum(C), np.mean(C), np.std(C), np.var(C) # etc..."
   ]
  },
  {
   "cell_type": "code",
   "execution_count": 93,
   "metadata": {
    "slideshow": {
     "slide_type": "fragment"
    }
   },
   "outputs": [
    {
     "name": "stdout",
     "output_type": "stream",
     "text": [
      "[[[nan  1.  2.  3.]\n",
      "  [ 4.  5.  6.  7.]\n",
      "  [ 8.  9. 10. 11.]]\n",
      "\n",
      " [[12. 13. 14. 15.]\n",
      "  [16. 17. 18. 19.]\n",
      "  [20. 21. 22. 23.]]] (2, 3, 4)\n"
     ]
    },
    {
     "data": {
      "text/plain": [
       "array([[nan,  6.,  6.,  6.],\n",
       "       [ 6.,  6.,  6.,  6.],\n",
       "       [ 6.,  6.,  6.,  6.]])"
      ]
     },
     "execution_count": 93,
     "metadata": {},
     "output_type": "execute_result"
    }
   ],
   "source": [
    "print(C, C.shape)\n",
    "# It works along an axis as well\n",
    "np.std(C, 0) # row-wise average"
   ]
  },
  {
   "cell_type": "code",
   "execution_count": 94,
   "metadata": {
    "slideshow": {
     "slide_type": "fragment"
    }
   },
   "outputs": [
    {
     "data": {
      "text/plain": [
       "array([[        nan, 10.66666667, 10.66666667, 10.66666667],\n",
       "       [10.66666667, 10.66666667, 10.66666667, 10.66666667]])"
      ]
     },
     "execution_count": 94,
     "metadata": {},
     "output_type": "execute_result"
    }
   ],
   "source": [
    "C.var(1) # column-wise variance (applied to C and 'axis=' omited)"
   ]
  },
  {
   "cell_type": "markdown",
   "metadata": {
    "slideshow": {
     "slide_type": "slide"
    }
   },
   "source": [
    " ## $$ \\textbf{Broadcasting}$$\n",
    "<hr>\n",
    "<center>\n",
    "<img src='./images/broad.png' width='1000'>\n"
   ]
  },
  {
   "cell_type": "markdown",
   "metadata": {
    "slideshow": {
     "slide_type": "slide"
    }
   },
   "source": [
    " ## $$ \\textbf{Explicit broadcasting}$$\n",
    "<hr>"
   ]
  },
  {
   "cell_type": "code",
   "execution_count": 99,
   "metadata": {
    "slideshow": {
     "slide_type": "fragment"
    }
   },
   "outputs": [
    {
     "name": "stdout",
     "output_type": "stream",
     "text": [
      "(4,)\n",
      "(1, 4)\n"
     ]
    },
    {
     "data": {
      "text/plain": [
       "(array([[ 0,  0,  0],\n",
       "        [10, 10, 10],\n",
       "        [20, 20, 20],\n",
       "        [30, 30, 30]]),\n",
       " (4, 3))"
      ]
     },
     "execution_count": 99,
     "metadata": {},
     "output_type": "execute_result"
    }
   ],
   "source": [
    "A = 10*np.arange(4)\n",
    "print(A.shape)\n",
    "\n",
    "A = A[None]\n",
    "print(A.shape)\n",
    "\n",
    "A = np.repeat(A, 3, axis=0).T # repeat row-wise 3 times then transpose\n",
    "A, A.shape"
   ]
  },
  {
   "cell_type": "code",
   "execution_count": 100,
   "metadata": {
    "slideshow": {
     "slide_type": "fragment"
    }
   },
   "outputs": [
    {
     "data": {
      "text/plain": [
       "(array([[0, 1, 2],\n",
       "        [0, 1, 2],\n",
       "        [0, 1, 2],\n",
       "        [0, 1, 2]]),\n",
       " (4, 3))"
      ]
     },
     "execution_count": 100,
     "metadata": {},
     "output_type": "execute_result"
    }
   ],
   "source": [
    "B = np.arange(3)[None]\n",
    "B = np.repeat(B, 4, axis=0) # repeat row-wise 4 times\n",
    "B, B.shape"
   ]
  },
  {
   "cell_type": "code",
   "execution_count": 101,
   "metadata": {
    "slideshow": {
     "slide_type": "fragment"
    }
   },
   "outputs": [
    {
     "data": {
      "text/plain": [
       "(array([[ 0,  1,  2],\n",
       "        [10, 11, 12],\n",
       "        [20, 21, 22],\n",
       "        [30, 31, 32]]),\n",
       " (4, 3))"
      ]
     },
     "execution_count": 101,
     "metadata": {},
     "output_type": "execute_result"
    }
   ],
   "source": [
    "#(4,3) + (4,3)\n",
    "C = A + B\n",
    "C, C.shape"
   ]
  },
  {
   "cell_type": "markdown",
   "metadata": {
    "slideshow": {
     "slide_type": "slide"
    }
   },
   "source": [
    " ## $$ \\textbf{Implicit broadcasting}$$\n",
    "<hr>"
   ]
  },
  {
   "cell_type": "code",
   "execution_count": 102,
   "metadata": {
    "slideshow": {
     "slide_type": "fragment"
    }
   },
   "outputs": [
    {
     "data": {
      "text/plain": [
       "(array([[ 0,  0,  0],\n",
       "        [10, 10, 10],\n",
       "        [20, 20, 20],\n",
       "        [30, 30, 30]]),\n",
       " (4, 3))"
      ]
     },
     "execution_count": 102,
     "metadata": {},
     "output_type": "execute_result"
    }
   ],
   "source": [
    "A, A.shape"
   ]
  },
  {
   "cell_type": "code",
   "execution_count": 103,
   "metadata": {
    "slideshow": {
     "slide_type": "fragment"
    }
   },
   "outputs": [
    {
     "data": {
      "text/plain": [
       "(array([0, 1, 2]), (3,))"
      ]
     },
     "execution_count": 103,
     "metadata": {},
     "output_type": "execute_result"
    }
   ],
   "source": [
    "B = np.array([0,1,2])\n",
    "B, B.shape"
   ]
  },
  {
   "cell_type": "code",
   "execution_count": 107,
   "metadata": {
    "slideshow": {
     "slide_type": "fragment"
    }
   },
   "outputs": [
    {
     "data": {
      "text/plain": [
       "array([[ 0,  1,  2],\n",
       "       [10, 11, 12],\n",
       "       [20, 21, 22],\n",
       "       [30, 31, 32]])"
      ]
     },
     "execution_count": 107,
     "metadata": {},
     "output_type": "execute_result"
    }
   ],
   "source": [
    "#(4,3) + (3,) -> (4,3) copied automatically 4 times to become (4,3)\n",
    "\n",
    "A + B"
   ]
  },
  {
   "cell_type": "markdown",
   "metadata": {
    "slideshow": {
     "slide_type": "slide"
    }
   },
   "source": [
    " ## $$ \\textbf{Implicit broadcasting}$$\n",
    "<hr>"
   ]
  },
  {
   "cell_type": "code",
   "execution_count": 108,
   "metadata": {
    "slideshow": {
     "slide_type": "-"
    }
   },
   "outputs": [
    {
     "name": "stdout",
     "output_type": "stream",
     "text": [
      "(4,) (3,)\n"
     ]
    },
    {
     "data": {
      "text/plain": [
       "(array([ 0, 10, 20, 30]), array([0, 1, 2]))"
      ]
     },
     "execution_count": 108,
     "metadata": {},
     "output_type": "execute_result"
    }
   ],
   "source": [
    "A = np.array([0,10,20,30])\n",
    "B = np.array([0,1,2])\n",
    "\n",
    "print(A.shape, B.shape)\n",
    "A, B"
   ]
  },
  {
   "cell_type": "code",
   "execution_count": 110,
   "metadata": {
    "scrolled": true,
    "slideshow": {
     "slide_type": "fragment"
    }
   },
   "outputs": [
    {
     "ename": "ValueError",
     "evalue": "operands could not be broadcast together with shapes (4,) (3,) ",
     "output_type": "error",
     "traceback": [
      "\u001b[0;31m---------------------------------------------------------------------------\u001b[0m",
      "\u001b[0;31mValueError\u001b[0m                                Traceback (most recent call last)",
      "\u001b[0;32m<ipython-input-110-151064de832d>\u001b[0m in \u001b[0;36m<module>\u001b[0;34m\u001b[0m\n\u001b[0;32m----> 1\u001b[0;31m \u001b[0mA\u001b[0m \u001b[0;34m+\u001b[0m \u001b[0mB\u001b[0m\u001b[0;34m\u001b[0m\u001b[0;34m\u001b[0m\u001b[0m\n\u001b[0m",
      "\u001b[0;31mValueError\u001b[0m: operands could not be broadcast together with shapes (4,) (3,) "
     ]
    }
   ],
   "source": [
    "A + B"
   ]
  },
  {
   "cell_type": "code",
   "execution_count": 114,
   "metadata": {
    "slideshow": {
     "slide_type": "fragment"
    }
   },
   "outputs": [
    {
     "data": {
      "text/plain": [
       "(4, 3)"
      ]
     },
     "execution_count": 114,
     "metadata": {},
     "output_type": "execute_result"
    }
   ],
   "source": [
    "# (4,1) + (1,3) => (4, 1 -> 3) + (1 -> 4 ,3) => (4,3) + (4,3) \n",
    "(A[:,None] + B[None]).shape"
   ]
  },
  {
   "cell_type": "markdown",
   "metadata": {
    "slideshow": {
     "slide_type": "-"
    }
   },
   "source": [
    "<a href='https://numpy.org/doc/stable/user/basics.broadcasting.html?highlight=broadcasting#module-numpy.doc.broadcasting'>More about broadcasting</a>"
   ]
  },
  {
   "cell_type": "markdown",
   "metadata": {
    "slideshow": {
     "slide_type": "slide"
    }
   },
   "source": [
    " # $$ \\textbf{Python vs. NumPy performance evaluation}$$\n",
    "<hr> \n",
    "<br><br>\n",
    "<div>\n",
    "$\\text{To verify that in addition to the more compact syntax,}$ \n",
    "\n",
    "$\\text{Numpy also provides a computational benefit over standard Python,}$ \n",
    "\n",
    "$\\text{we compare the running time of a similar computation performed in pure Python and in Numpy.}$\n",
    "</div>"
   ]
  },
  {
   "cell_type": "markdown",
   "metadata": {
    "slideshow": {
     "slide_type": "slide"
    }
   },
   "source": [
    "* $\\text{For measuring computational time we'll use the}\\> \\textit{time}\\> \\text{package}$"
   ]
  },
  {
   "cell_type": "code",
   "execution_count": 115,
   "metadata": {
    "slideshow": {
     "slide_type": "-"
    }
   },
   "outputs": [],
   "source": [
    "#conda install -c conda-forge time\n",
    "\n",
    "#The module \"time\" provides a function \"time\" to measure the current time\n",
    "from time import time"
   ]
  },
  {
   "cell_type": "code",
   "execution_count": 116,
   "metadata": {
    "slideshow": {
     "slide_type": "fragment"
    }
   },
   "outputs": [
    {
     "data": {
      "text/plain": [
       "1607782879.6513329"
      ]
     },
     "execution_count": 116,
     "metadata": {},
     "output_type": "execute_result"
    }
   ],
   "source": [
    "start = time() # return the current time in seconds since the Epoch.\n",
    "start "
   ]
  },
  {
   "cell_type": "code",
   "execution_count": 117,
   "metadata": {
    "slideshow": {
     "slide_type": "fragment"
    }
   },
   "outputs": [
    {
     "data": {
      "text/plain": [
       "1607782880.083934"
      ]
     },
     "execution_count": 117,
     "metadata": {},
     "output_type": "execute_result"
    }
   ],
   "source": [
    "end = time()\n",
    "end"
   ]
  },
  {
   "cell_type": "code",
   "execution_count": 118,
   "metadata": {
    "slideshow": {
     "slide_type": "fragment"
    }
   },
   "outputs": [
    {
     "data": {
      "text/plain": [
       "0.4326012134552002"
      ]
     },
     "execution_count": 118,
     "metadata": {},
     "output_type": "execute_result"
    }
   ],
   "source": [
    "elapsed_time = end - start\n",
    "elapsed_time"
   ]
  },
  {
   "cell_type": "markdown",
   "metadata": {
    "slideshow": {
     "slide_type": "slide"
    }
   },
   "source": [
    "* $\\text{Define a function to measure the computations time }$\n",
    "$\\text{of matrix dot product for two}\\> n \\times n \\>  \\text{matrices.}$"
   ]
  },
  {
   "cell_type": "code",
   "execution_count": 119,
   "metadata": {
    "slideshow": {
     "slide_type": "fragment"
    }
   },
   "outputs": [],
   "source": [
    "# pure Python implementation\n",
    "\n",
    "def benchmark_py(n):\n",
    "    \n",
    "    # only initialization is made with numpy (time of the operation is not preserved)\n",
    "    X = np.ones((n, n))\n",
    "    Y = np.copy(X) # creates a copy of the given matrix\n",
    "    Z = np.empty((n, n)) # placeholder matrix with values to be overwritten anyways\n",
    "    \n",
    "    # actual (measured) matrix multiplication\n",
    "    start = time()\n",
    "    for i in range(n):\n",
    "        for j in range(n):\n",
    "            for k in range(n):\n",
    "                Z[i,j] += X[i, k] * Y[k, j]\n",
    "    end = time()\n",
    "    \n",
    "    return end-start"
   ]
  },
  {
   "cell_type": "code",
   "execution_count": 120,
   "metadata": {
    "slideshow": {
     "slide_type": "fragment"
    }
   },
   "outputs": [
    {
     "data": {
      "text/plain": [
       "2.6397619247436523"
      ]
     },
     "execution_count": 120,
     "metadata": {},
     "output_type": "execute_result"
    }
   ],
   "source": [
    "comp_time_py = benchmark_py(124)\n",
    "comp_time_py"
   ]
  },
  {
   "cell_type": "markdown",
   "metadata": {
    "slideshow": {
     "slide_type": "slide"
    }
   },
   "source": [
    "* $\\text{Numpy implementation}$"
   ]
  },
  {
   "cell_type": "code",
   "execution_count": 121,
   "metadata": {
    "slideshow": {
     "slide_type": "fragment"
    }
   },
   "outputs": [],
   "source": [
    "def benchmark_np(n):\n",
    "    \n",
    "    # same initialization as before\n",
    "    X = np.ones((n, n))\n",
    "    Y = np.copy(X) # matrix of the shape X with ones\n",
    "    Z = np.empty_like(X) # same but with empty (any) values\n",
    "    \n",
    "    # actual (measured) matrix multiplication\n",
    "    start = time()\n",
    "    Z = X @ Y # @ is a shortcut for np.dot \n",
    "    end = time()\n",
    "    \n",
    "    return end-start"
   ]
  },
  {
   "cell_type": "code",
   "execution_count": 122,
   "metadata": {
    "slideshow": {
     "slide_type": "fragment"
    }
   },
   "outputs": [
    {
     "data": {
      "text/plain": [
       "0.009567022323608398"
      ]
     },
     "execution_count": 122,
     "metadata": {},
     "output_type": "execute_result"
    }
   ],
   "source": [
    "comp_time_np = benchmark_np(128)\n",
    "comp_time_np"
   ]
  },
  {
   "cell_type": "code",
   "execution_count": 124,
   "metadata": {},
   "outputs": [
    {
     "name": "stdout",
     "output_type": "stream",
     "text": [
      "200 µs ± 96.6 µs per loop (mean ± std. dev. of 10 runs, 100 loops each)\n"
     ]
    }
   ],
   "source": [
    "#  num of loops | num of reinits\n",
    "%timeit -n 100 -r 10 benchmark_np(128) # only in Jupyter notebook"
   ]
  },
  {
   "cell_type": "code",
   "execution_count": 125,
   "metadata": {
    "slideshow": {
     "slide_type": "fragment"
    }
   },
   "outputs": [
    {
     "data": {
      "text/plain": [
       "'NumPy is 276 times faster then pure Python'"
      ]
     },
     "execution_count": 125,
     "metadata": {},
     "output_type": "execute_result"
    }
   ],
   "source": [
    "ratio = comp_time_py/comp_time_np\n",
    "f'NumPy is {ratio:0.0f} times faster then pure Python'"
   ]
  },
  {
   "cell_type": "markdown",
   "metadata": {
    "slideshow": {
     "slide_type": "slide"
    }
   },
   "source": [
    "* $\\text{Let's collect the computation time with different parameters (e.g. size of the input arrays)}$"
   ]
  },
  {
   "cell_type": "code",
   "execution_count": 126,
   "metadata": {
    "slideshow": {
     "slide_type": "fragment"
    }
   },
   "outputs": [
    {
     "data": {
      "text/plain": [
       "array([  2,   4,   8,  16,  32,  64, 128])"
      ]
     },
     "execution_count": 126,
     "metadata": {},
     "output_type": "execute_result"
    }
   ],
   "source": [
    "max_power = 7\n",
    "sizes =  2 ** np.arange(1, max_power+1)\n",
    "sizes"
   ]
  },
  {
   "cell_type": "code",
   "execution_count": 127,
   "metadata": {
    "scrolled": true,
    "slideshow": {
     "slide_type": "fragment"
    }
   },
   "outputs": [
    {
     "data": {
      "text/plain": [
       "[2.3126602172851562e-05,\n",
       " 0.002895832061767578,\n",
       " 0.0012888908386230469,\n",
       " 0.006521940231323242,\n",
       " 0.04929471015930176,\n",
       " 0.3828310966491699,\n",
       " 2.9675750732421875]"
      ]
     },
     "execution_count": 127,
     "metadata": {},
     "output_type": "execute_result"
    }
   ],
   "source": [
    "# Python computational times\n",
    "py_t = [benchmark_py(size) for size in sizes]\n",
    "py_t"
   ]
  },
  {
   "cell_type": "code",
   "execution_count": 128,
   "metadata": {
    "slideshow": {
     "slide_type": "fragment"
    }
   },
   "outputs": [
    {
     "data": {
      "text/plain": [
       "[9.655952453613281e-05,\n",
       " 7.3909759521484375e-06,\n",
       " 5.4836273193359375e-06,\n",
       " 5.9604644775390625e-06,\n",
       " 7.3909759521484375e-06,\n",
       " 0.0016028881072998047,\n",
       " 0.0048711299896240234]"
      ]
     },
     "execution_count": 128,
     "metadata": {},
     "output_type": "execute_result"
    }
   ],
   "source": [
    "np_t = [benchmark_np(size) for size in sizes]\n",
    "np_t"
   ]
  },
  {
   "cell_type": "code",
   "execution_count": 131,
   "metadata": {
    "slideshow": {
     "slide_type": "fragment"
    }
   },
   "outputs": [
    {
     "data": {
      "text/plain": [
       "('Times faster:',\n",
       " [(2, '0.0'),\n",
       "  (4, '392.0'),\n",
       "  (8, '235.0'),\n",
       "  (16, '1094.0'),\n",
       "  (32, '6670.0'),\n",
       "  (64, '239.0'),\n",
       "  (128, '609.0')])"
      ]
     },
     "execution_count": 131,
     "metadata": {},
     "output_type": "execute_result"
    }
   ],
   "source": [
    "ratios = np.divide(py_t,np_t).round()\n",
    "\n",
    "zp = zip(sizes, [ f'{r:0.1f}' for r in ratios])\n",
    "'Times faster:', list(zp)"
   ]
  },
  {
   "cell_type": "markdown",
   "metadata": {
    "slideshow": {
     "slide_type": "slide"
    }
   },
   "source": [
    " # $$ \\textbf{Scientific plotting}$$\n",
    "<hr> \n",
    "<br>\n",
    "\n",
    "$\\text{In machine learning, it is often necessary to visualize the data,}$ \n",
    "\n",
    "$\\text{or to plot properties of algorithms such as their accuracy or their computation time.}$  \n",
    "\n",
    "<br><br>\n",
    "<center>\n",
    "<img src='./images/mat.png' width='800'>"
   ]
  },
  {
   "cell_type": "markdown",
   "metadata": {
    "slideshow": {
     "slide_type": "fragment"
    }
   },
   "source": [
    "$\\text{For this, we can make use of the}\\> \\textit{matplotlib}\\> \\text{library.}$"
   ]
  },
  {
   "cell_type": "code",
   "execution_count": 132,
   "metadata": {
    "slideshow": {
     "slide_type": "-"
    }
   },
   "outputs": [],
   "source": [
    "#conda install -c conda-forge matplotlib\n",
    "\n",
    "import matplotlib.pyplot as plt # import plotting subpackage\n",
    "\n",
    "# only for Jupyter Notebook\n",
    "%matplotlib inline "
   ]
  },
  {
   "cell_type": "markdown",
   "metadata": {
    "slideshow": {
     "slide_type": "slide"
    }
   },
   "source": [
    "* $\\text{Let's first create some input data for plotting}$"
   ]
  },
  {
   "cell_type": "code",
   "execution_count": 133,
   "metadata": {
    "slideshow": {
     "slide_type": "fragment"
    }
   },
   "outputs": [
    {
     "name": "stdout",
     "output_type": "stream",
     "text": [
      "[ 0.    0.25  0.5   0.75  1.    1.25  1.5   1.75  2.    2.25  2.5   2.75\n",
      "  3.    3.25  3.5   3.75  4.    4.25  4.5   4.75  5.    5.25  5.5   5.75\n",
      "  6.    6.25  6.5   6.75  7.    7.25  7.5   7.75  8.    8.25  8.5   8.75\n",
      "  9.    9.25  9.5   9.75 10.   10.25 10.5  10.75 11.   11.25 11.5  11.75\n",
      " 12.   12.25 12.5 ] (51,) (51,) (51,)\n"
     ]
    }
   ],
   "source": [
    "# Trigonometric functions data\n",
    "import numpy as np\n",
    "x = np.arange(0, 4*np.pi, 0.25) # similar to range function from pure Python\n",
    "\n",
    "# elementwise sinus and cosinus functions\n",
    "y = np.sin(x) \n",
    "z = np.cos(x)\n",
    "\n",
    "print(x, x.shape, y.shape, z.shape)"
   ]
  },
  {
   "cell_type": "markdown",
   "metadata": {
    "slideshow": {
     "slide_type": "slide"
    }
   },
   "source": [
    " ## $$ \\textbf{Basic plot}$$\n",
    "<hr> \n",
    "<br>"
   ]
  },
  {
   "cell_type": "code",
   "execution_count": 134,
   "metadata": {
    "slideshow": {
     "slide_type": "fragment"
    }
   },
   "outputs": [
    {
     "data": {
      "image/png": "[encoded data removed]",
      "text/plain": [
       "<Figure size 864x432 with 1 Axes>"
      ]
     },
     "metadata": {
      "needs_background": "light"
     },
     "output_type": "display_data"
    }
   ],
   "source": [
    "# figure proportions (sizes)\n",
    "plt.figure(figsize=(12,6))\n",
    "\n",
    "plt.plot(x, y)\n",
    "_=plt.plot(x, z) # skips the plot object representaion printing"
   ]
  },
  {
   "cell_type": "markdown",
   "metadata": {
    "slideshow": {
     "slide_type": "slide"
    }
   },
   "source": [
    " ## $$ \\textbf{Markers, Labels and Title}$$\n",
    "<hr> \n",
    "<br>"
   ]
  },
  {
   "cell_type": "code",
   "execution_count": 135,
   "metadata": {
    "scrolled": true,
    "slideshow": {
     "slide_type": "fragment"
    }
   },
   "outputs": [
    {
     "data": {
      "image/png": "[encoded data removed]",
      "text/plain": [
       "<Figure size 864x432 with 1 Axes>"
      ]
     },
     "metadata": {
      "needs_background": "light"
     },
     "output_type": "display_data"
    }
   ],
   "source": [
    "plt.figure(figsize=(12,6))\n",
    "\n",
    "# connected circles marker style\n",
    "plt.plot(x, y, 'o-', color='red') # marker shortcut (o-) connected circles + color\n",
    "\n",
    "# connected stars \n",
    "plt.plot(x, z, 'b.--', ms=15)  # (*--) stars with dashed line connection + size of the markers\n",
    "\n",
    "plt.xlabel('x', fontsize=20) # x-axis label + fontsize\n",
    "plt.ylabel('f(x)', fontsize=20, rotation=0, labelpad=20) # y-axis label + rotation angle (default 90 degree)\n",
    "\n",
    "_=plt.title('Simple trigonometric functions', fontsize=25) # skip printing the plot object representation"
   ]
  },
  {
   "cell_type": "markdown",
   "metadata": {
    "slideshow": {
     "slide_type": "slide"
    }
   },
   "source": [
    " ## $$ \\textbf{Legend, Ticks and Grids}$$\n",
    "<hr> \n",
    "<br>"
   ]
  },
  {
   "cell_type": "code",
   "execution_count": 136,
   "metadata": {
    "slideshow": {
     "slide_type": "slide"
    }
   },
   "outputs": [
    {
     "data": {
      "image/png": "[encoded data removed]",
      "text/plain": [
       "<Figure size 864x432 with 1 Axes>"
      ]
     },
     "metadata": {
      "needs_background": "light"
     },
     "output_type": "display_data"
    }
   ],
   "source": [
    "# figure proportions (sizes)\n",
    "plt.figure(figsize=(12,6))\n",
    "\n",
    "# connected circles marker style\n",
    "plt.plot(x, y, 'o-', color='red', label='$f(x) = \\sin(x)$') # LaTex expressions for the line labeling\n",
    "\n",
    "# connected stars \n",
    "plt.plot(x, z, '*--', color='green', label='$f(x) = \\cos(x)$', ms=10) \n",
    "\n",
    "plt.ylim(-2,2) # sets axis limits\n",
    "plt.xlim(0, 4*np.pi)\n",
    "\n",
    "plt.legend(loc='upper right', fontsize=15) # trigger the legend creation with the specified location + fontsize\n",
    "\n",
    "plt.xlabel('x', fontsize=20) # fontsize\n",
    "plt.ylabel('f(x)', fontsize=20, rotation=0, labelpad=25) # lable rotation angle (default 90 degree)\n",
    "\n",
    "plt.yticks(np.arange(-1, 1.01, .2 ) ) # from -1 to 1 every 0.2 is a tick\n",
    "plt.xticks(np.arange(0, 4*np.pi+0.01, np.pi/4)) # from 0 to 4 pi every pi/4 is a tick\n",
    "\n",
    "plt.title('Simple trigonometric functions', fontsize=25)\n",
    "\n",
    "plt.grid(True) # grid lines"
   ]
  },
  {
   "cell_type": "markdown",
   "metadata": {
    "slideshow": {
     "slide_type": "slide"
    }
   },
   "source": [
    " ## $$ \\textbf{Performance curves for matrix multiplication}$$\n",
    "<hr> \n",
    "<br>"
   ]
  },
  {
   "cell_type": "code",
   "execution_count": 248,
   "metadata": {
    "slideshow": {
     "slide_type": "fragment"
    }
   },
   "outputs": [
    {
     "data": {
      "image/png": "[encoded data removed]",
      "text/plain": [
       "<Figure size 864x432 with 1 Axes>"
      ]
     },
     "metadata": {
      "needs_background": "light"
     },
     "output_type": "display_data"
    }
   ],
   "source": [
    "plt.figure(figsize=(12,6))\n",
    "plt.plot(sizes, py_t, 'o-', label='Python', color='red', alpha=0.3) # alpha for the transparency value\n",
    "plt.plot(sizes, np_t, 's-', label='NumPy', color='green')\n",
    "\n",
    "plt.xscale('log')\n",
    "plt.yscale('log')\n",
    "\n",
    "plt.xlabel('shape on of an array (n,n)', fontsize=15)\n",
    "plt.ylabel('time [s]', fontsize=15)\n",
    "plt.title('Python vs. NumPy performance', fontsize=18)\n",
    "plt.grid(axis='y') # grid with along an y axis\n",
    "_=plt.legend(loc=2, fontsize=15) # location within hhe second quadrant"
   ]
  },
  {
   "cell_type": "markdown",
   "metadata": {
    "slideshow": {
     "slide_type": "slide"
    }
   },
   "source": [
    "# $$ \\textbf{Computations on GPU with}$$\n",
    "<hr> \n",
    "<br>\n",
    "\n",
    "<center>\n",
    "    <img src='./images/torch.png' width='800'>"
   ]
  },
  {
   "cell_type": "code",
   "execution_count": 249,
   "metadata": {
    "slideshow": {
     "slide_type": "fragment"
    }
   },
   "outputs": [
    {
     "data": {
      "text/plain": [
       "'cuda:0'"
      ]
     },
     "execution_count": 249,
     "metadata": {},
     "output_type": "execute_result"
    }
   ],
   "source": [
    "# conda install pytorch torchvision cudatoolkit=10.2 -c pytorch\n",
    "\n",
    "import numpy as np\n",
    "import torch as tr\n",
    "\n",
    "device = 'cuda:0' if tr.cuda.is_available() else 'cpu'\n",
    "device"
   ]
  },
  {
   "cell_type": "markdown",
   "metadata": {
    "slideshow": {
     "slide_type": "slide"
    }
   },
   "source": [
    "# $$ \\textbf{Benchmark function on PyTorch}$$\n",
    "<hr> \n",
    "<br>"
   ]
  },
  {
   "cell_type": "code",
   "execution_count": 250,
   "metadata": {
    "slideshow": {
     "slide_type": "fragment"
    }
   },
   "outputs": [],
   "source": [
    "from time import time\n",
    "\n",
    "def benchmark_gpu(n, device):\n",
    "    \n",
    "    # Tensor object initialization\n",
    "    X = tr.ones((n, n)).float().to(device) # creates a float tensor of ones + shifts it to GPU\n",
    "    Y = tr.ones((n, n)).float().to(device) \n",
    "    \n",
    "    # actual (measured) matrix multiplication\n",
    "    start = time()\n",
    "    Z = tr.mm(X,Y) # dot product in PyTorch\n",
    "    end = time()\n",
    "    \n",
    "    return end-start"
   ]
  },
  {
   "cell_type": "code",
   "execution_count": 251,
   "metadata": {
    "slideshow": {
     "slide_type": "fragment"
    }
   },
   "outputs": [
    {
     "data": {
      "text/plain": [
       "0.00014972686767578125"
      ]
     },
     "execution_count": 251,
     "metadata": {},
     "output_type": "execute_result"
    }
   ],
   "source": [
    "size = 256\n",
    "benchmark_gpu(size, device)"
   ]
  },
  {
   "cell_type": "code",
   "execution_count": 252,
   "metadata": {
    "slideshow": {
     "slide_type": "fragment"
    }
   },
   "outputs": [
    {
     "data": {
      "text/plain": [
       "array([   2,    4,    8,   16,   32,   64,  128,  256,  512, 1024, 2048,\n",
       "       4096])"
      ]
     },
     "execution_count": 252,
     "metadata": {},
     "output_type": "execute_result"
    }
   ],
   "source": [
    "max_power = 12\n",
    "sizes =  2 ** np.arange(1, max_power+1)\n",
    "sizes"
   ]
  },
  {
   "cell_type": "code",
   "execution_count": 253,
   "metadata": {
    "slideshow": {
     "slide_type": "fragment"
    }
   },
   "outputs": [],
   "source": [
    "# collect the elapsed computational times on CPU and GPU\n",
    "np_t = [benchmark_np(size) for size in sizes]\n",
    "gpu_t = [benchmark_gpu(size, device) for size in sizes]"
   ]
  },
  {
   "cell_type": "code",
   "execution_count": 254,
   "metadata": {
    "slideshow": {
     "slide_type": "slide"
    }
   },
   "outputs": [
    {
     "data": {
      "image/png": "[encoded data removed]",
      "text/plain": [
       "<Figure size 720x432 with 1 Axes>"
      ]
     },
     "metadata": {
      "needs_background": "light"
     },
     "output_type": "display_data"
    }
   ],
   "source": [
    "plt.figure(figsize=(10,6))\n",
    "plt.plot(sizes, gpu_t, 'o-', label='PyTorch', color='red')\n",
    "plt.plot(sizes, np_t, 's-', label='NumPy', color='green')\n",
    "\n",
    "plt.xscale('log')\n",
    "plt.yscale('log')\n",
    "\n",
    "plt.xlabel('shape on of an array (n,n)', fontsize=15)\n",
    "plt.ylabel('time [s]', fontsize=15)\n",
    "\n",
    "plt.title('PyTorch vs. NumPy performance', fontsize=18)\n",
    "\n",
    "plt.grid(axis='y') # grid with along an y axis\n",
    "_=plt.legend(loc=2, fontsize=15) # location within hhe second quadrant"
   ]
  },
  {
   "cell_type": "markdown",
   "metadata": {
    "slideshow": {
     "slide_type": "slide"
    }
   },
   "source": [
    "# $$ \\textbf{Thank you for your attention.}$$"
   ]
  }
 ],
 "metadata": {
  "celltoolbar": "Slideshow",
  "kernelspec": {
   "display_name": "Python 3",
   "language": "python",
   "name": "python3"
  },
  "language_info": {
   "codemirror_mode": {
    "name": "ipython",
    "version": 3
   },
   "file_extension": ".py",
   "mimetype": "text/x-python",
   "name": "python",
   "nbconvert_exporter": "python",
   "pygments_lexer": "ipython3",
   "version": "3.8.3"
  }
 },
 "nbformat": 4,
 "nbformat_minor": 4
}
